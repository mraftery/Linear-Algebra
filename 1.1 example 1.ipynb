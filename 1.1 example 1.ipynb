{
 "cells": [
  {
   "cell_type": "markdown",
   "metadata": {},
   "source": [
    "#  Systems of Linear Equations"
   ]
  },
  {
   "cell_type": "markdown",
   "metadata": {},
   "source": [
    "<p>Example 1.1 <p/>\n",
    "Below are the row operations following textbook's order of operations to solve Eqn (3)"
   ]
  },
  {
   "cell_type": "code",
   "execution_count": 63,
   "metadata": {
    "collapsed": false
   },
   "outputs": [],
   "source": [
    "import numpy as np\n",
    "import sympy \n",
    "\n",
    "dim=3\n",
    "\n",
    "def Replace(target_row,other_row,scale):\n",
    "    Id=np.eye(dim)\n",
    "    out=np.matrix(Id)\n",
    "    out[target_row,:]=Id[target_row,:]+scale*Id[other_row,:]\n",
    "    return out\n",
    "\n",
    "def Interchange(row1,row2):\n",
    "    Id=np.eye(dim)\n",
    "    out=np.matrix(Id)\n",
    "    out[row1,:]=Id[row2,:]\n",
    "    out[row2,:]=Id[row1,:]\n",
    "    return out\n",
    "    \n",
    "def Scale(row,alpha):\n",
    "    Id=np.eye(dim)\n",
    "    out=np.matrix(Id)\n",
    "    out[row,:]=alpha*Id[row,:]\n",
    "    return out\n",
    "    "
   ]
  },
  {
   "cell_type": "markdown",
   "metadata": {},
   "source": [
    "Example 1.1 in matrix notation"
   ]
  },
  {
   "cell_type": "code",
   "execution_count": 6,
   "metadata": {
    "collapsed": false,
    "scrolled": true
   },
   "outputs": [
    {
     "name": "stdout",
     "output_type": "stream",
     "text": [
      "[[ 1 -2  1  0]\n",
      " [ 0  2 -8  8]\n",
      " [ 5  0 -5 10]]\n"
     ]
    }
   ],
   "source": [
    "A=np.array([[1,-2,1,0],[0,2,-8,8],[5,0,-5,10]])\n",
    "print(A)"
   ]
  },
  {
   "cell_type": "markdown",
   "metadata": {},
   "source": [
    "<p>The order of matrix operations follows the text using the above row functions.</p>\n",
    "<p>Python begins index count at 0, which is of critical importance for matrix indices</p>"
   ]
  },
  {
   "cell_type": "code",
   "execution_count": 25,
   "metadata": {
    "collapsed": false
   },
   "outputs": [
    {
     "name": "stdout",
     "output_type": "stream",
     "text": [
      "[[  1.  -2.   1.   0.]\n",
      " [  0.   2.  -8.   8.]\n",
      " [  0.  10. -10.  10.]]\n"
     ]
    }
   ],
   "source": [
    "A1=np.dot(Replace(2,0,-5),A)\n",
    "print(A1)"
   ]
  },
  {
   "cell_type": "code",
   "execution_count": 15,
   "metadata": {
    "collapsed": false
   },
   "outputs": [
    {
     "name": "stdout",
     "output_type": "stream",
     "text": [
      "[[  1.  -2.   1.   0.]\n",
      " [  0.   1.  -4.   4.]\n",
      " [  0.  10. -10.  10.]]\n"
     ]
    }
   ],
   "source": [
    "A2=np.dot(Scale(1,.5),A1)\n",
    "print(A2)"
   ]
  },
  {
   "cell_type": "code",
   "execution_count": 19,
   "metadata": {
    "collapsed": false,
    "scrolled": true
   },
   "outputs": [
    {
     "name": "stdout",
     "output_type": "stream",
     "text": [
      "[[  1.  -2.   1.   0.]\n",
      " [  0.   1.  -4.   4.]\n",
      " [  0.   0.  30. -30.]]\n"
     ]
    }
   ],
   "source": [
    "A3=np.dot(Replace(2,1,-10),A2)\n",
    "print(A3)"
   ]
  },
  {
   "cell_type": "code",
   "execution_count": 41,
   "metadata": {
    "collapsed": false
   },
   "outputs": [
    {
     "name": "stdout",
     "output_type": "stream",
     "text": [
      "[[ 1. -2.  1.  0.]\n",
      " [ 0.  1. -4.  4.]\n",
      " [ 0.  0.  1. -1.]]\n"
     ]
    }
   ],
   "source": [
    "A4=np.dot(Scale(2,1/30.),A3)\n",
    "print(A4)"
   ]
  },
  {
   "cell_type": "code",
   "execution_count": 54,
   "metadata": {
    "collapsed": false
   },
   "outputs": [
    {
     "name": "stdout",
     "output_type": "stream",
     "text": [
      "[[ 1. -2.  0.  1.]\n",
      " [ 0.  1.  0.  0.]\n",
      " [ 0.  0.  1. -1.]]\n"
     ]
    }
   ],
   "source": [
    "A5=np.dot(Replace(1,2,4),A4)\n",
    "A6=np.dot(Replace(0,2,-1),A5)\n",
    "print(A6)"
   ]
  },
  {
   "cell_type": "code",
   "execution_count": 56,
   "metadata": {
    "collapsed": false
   },
   "outputs": [
    {
     "name": "stdout",
     "output_type": "stream",
     "text": [
      "[[ 1.  0.  0.  1.]\n",
      " [ 0.  1.  0.  0.]\n",
      " [ 0.  0.  1. -1.]]\n"
     ]
    }
   ],
   "source": [
    "A7=np.dot(Replace(0,1,2),A6)\n",
    "print(A7)"
   ]
  },
  {
   "cell_type": "markdown",
   "metadata": {},
   "source": [
    "<p> The above tedious step-wise operations is to show the elementary row operations. </p>\n",
    "<p>The form of the solution is called row reduced echelon form (rref).</p>\n",
    "Python has a function to solve for rref."
   ]
  },
  {
   "cell_type": "code",
   "execution_count": 66,
   "metadata": {
    "collapsed": false
   },
   "outputs": [
    {
     "data": {
      "text/plain": [
       "(Matrix([\n",
       " [1, 0, 0,  1],\n",
       " [0, 1, 0,  0],\n",
       " [0, 0, 1, -1]]), [0, 1, 2])"
      ]
     },
     "execution_count": 66,
     "metadata": {},
     "output_type": "execute_result"
    }
   ],
   "source": [
    "A=Matrix([[1,-2,1,0],[0,2,-8,8],[5,0,-5,10]])\n",
    "A.rref()"
   ]
  },
  {
   "cell_type": "markdown",
   "metadata": {},
   "source": [
    "Another Python function to solve system of linear eqns"
   ]
  },
  {
   "cell_type": "code",
   "execution_count": 67,
   "metadata": {
    "collapsed": false
   },
   "outputs": [
    {
     "name": "stdout",
     "output_type": "stream",
     "text": [
      "[ 1.  0. -1.]\n"
     ]
    }
   ],
   "source": [
    "A = np.array([[1,-2,1],[0,2,-8],[5,0,-5]])\n",
    "B = np.array([0,8,10])\n",
    "x=np.linalg.solve(A,B)\n",
    "print(x)"
   ]
  }
 ],
 "metadata": {
  "kernelspec": {
   "display_name": "Python 2",
   "language": "python",
   "name": "python2"
  },
  "language_info": {
   "codemirror_mode": {
    "name": "ipython",
    "version": 2
   },
   "file_extension": ".py",
   "mimetype": "text/x-python",
   "name": "python",
   "nbconvert_exporter": "python",
   "pygments_lexer": "ipython2",
   "version": "2.7.10"
  }
 },
 "nbformat": 4,
 "nbformat_minor": 0
}
