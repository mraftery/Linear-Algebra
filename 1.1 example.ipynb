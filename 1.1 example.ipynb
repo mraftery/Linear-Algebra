{
 "cells": [
  {
   "cell_type": "markdown",
   "metadata": {},
   "source": [
    "#  Systems of Linear Equations"
   ]
  },
  {
   "cell_type": "markdown",
   "metadata": {},
   "source": [
    "<p>Example 1.1 <p/>\n",
    "Below are the row operations following textbook's order of operations to solve Eqn (3)"
   ]
  },
  {
   "cell_type": "code",
   "execution_count": 1,
   "metadata": {
    "collapsed": false
   },
   "outputs": [],
   "source": [
    "import numpy as np\n",
    "import sympy \n",
    "\n",
    "dim=3\n",
    "\n",
    "def Replace(target_row,other_row,scale):\n",
    "    Id=np.eye(dim)\n",
    "    out=np.matrix(Id)\n",
    "    out[target_row,:]=Id[target_row,:]+scale*Id[other_row,:]\n",
    "    return out\n",
    "\n",
    "def Interchange(row1,row2):\n",
    "    Id=np.eye(dim)\n",
    "    out=np.matrix(Id)\n",
    "    out[row1,:]=Id[row2,:]\n",
    "    out[row2,:]=Id[row1,:]\n",
    "    return out\n",
    "    \n",
    "def Scale(row,alpha):\n",
    "    Id=np.eye(dim)\n",
    "    out=np.matrix(Id)\n",
    "    out[row,:]=alpha*Id[row,:]\n",
    "    return out\n",
    "    "
   ]
  },
  {
   "cell_type": "markdown",
   "metadata": {},
   "source": [
    "Example 1.1 in matrix notation"
   ]
  },
  {
   "cell_type": "code",
   "execution_count": 2,
   "metadata": {
    "collapsed": false,
    "scrolled": true
   },
   "outputs": [
    {
     "name": "stdout",
     "output_type": "stream",
     "text": [
      "[[ 1 -2  1  0]\n",
      " [ 0  2 -8  8]\n",
      " [ 5  0 -5 10]]\n"
     ]
    }
   ],
   "source": [
    "A=np.array([[1,-2,1,0],[0,2,-8,8],[5,0,-5,10]])\n",
    "print(A)"
   ]
  },
  {
   "cell_type": "markdown",
   "metadata": {},
   "source": [
    "<p>Python begins index count at 0, which is of critical importance for matrix indices</p>"
   ]
  },
  {
   "cell_type": "markdown",
   "metadata": {},
   "source": [
    "Step 1: Replace-5*A[0,] to A[2,] , meaning 'Add -5 times eqn 1 to eqn 3'"
   ]
  },
  {
   "cell_type": "code",
   "execution_count": 3,
   "metadata": {
    "collapsed": false
   },
   "outputs": [
    {
     "name": "stdout",
     "output_type": "stream",
     "text": [
      "[[  1.  -2.   1.   0.]\n",
      " [  0.   2.  -8.   8.]\n",
      " [  0.  10. -10.  10.]]\n"
     ]
    }
   ],
   "source": [
    "A1=np.dot(Replace(2,0,-5),A)\n",
    "print(A1)"
   ]
  },
  {
   "cell_type": "markdown",
   "metadata": {},
   "source": [
    "Step 2: Scale A[1,] by 1/2, meaning 'Multiply eqn 2 by 1/2'"
   ]
  },
  {
   "cell_type": "code",
   "execution_count": 4,
   "metadata": {
    "collapsed": false
   },
   "outputs": [
    {
     "name": "stdout",
     "output_type": "stream",
     "text": [
      "[[  1.  -2.   1.   0.]\n",
      " [  0.   1.  -4.   4.]\n",
      " [  0.  10. -10.  10.]]\n"
     ]
    }
   ],
   "source": [
    "A2=np.dot(Scale(1,.5),A1)\n",
    "print(A2)"
   ]
  },
  {
   "cell_type": "markdown",
   "metadata": {},
   "source": [
    "Step 3: Replace -10*A[1,] to A[2,] , meaning 'Adds -10 times eqn 2 to eqn 3'"
   ]
  },
  {
   "cell_type": "code",
   "execution_count": 5,
   "metadata": {
    "collapsed": false,
    "scrolled": true
   },
   "outputs": [
    {
     "name": "stdout",
     "output_type": "stream",
     "text": [
      "[[  1.  -2.   1.   0.]\n",
      " [  0.   1.  -4.   4.]\n",
      " [  0.   0.  30. -30.]]\n"
     ]
    }
   ],
   "source": [
    "A3=np.dot(Replace(2,1,-10),A2)\n",
    "print(A3)"
   ]
  },
  {
   "cell_type": "markdown",
   "metadata": {},
   "source": [
    "Step 4: Scale A[2,] by 1/30"
   ]
  },
  {
   "cell_type": "code",
   "execution_count": 6,
   "metadata": {
    "collapsed": false
   },
   "outputs": [
    {
     "name": "stdout",
     "output_type": "stream",
     "text": [
      "[[ 1. -2.  1.  0.]\n",
      " [ 0.  1. -4.  4.]\n",
      " [ 0.  0.  1. -1.]]\n"
     ]
    }
   ],
   "source": [
    "A4=np.dot(Scale(2,1/30.),A3)\n",
    "print(A4)"
   ]
  },
  {
   "cell_type": "markdown",
   "metadata": {},
   "source": [
    "Step 5: Replace 4*A[2,] to A[1,] and Step 6: Replace -1*A[2,] to A[0,]"
   ]
  },
  {
   "cell_type": "code",
   "execution_count": 7,
   "metadata": {
    "collapsed": false
   },
   "outputs": [
    {
     "name": "stdout",
     "output_type": "stream",
     "text": [
      "[[ 1. -2.  0.  1.]\n",
      " [ 0.  1.  0.  0.]\n",
      " [ 0.  0.  1. -1.]]\n"
     ]
    }
   ],
   "source": [
    "A5=np.dot(Replace(1,2,4),A4)\n",
    "A6=np.dot(Replace(0,2,-1),A5)\n",
    "print(A6)"
   ]
  },
  {
   "cell_type": "markdown",
   "metadata": {},
   "source": [
    "Step 7: Replace 2*A[1,] to A[0,]"
   ]
  },
  {
   "cell_type": "code",
   "execution_count": 8,
   "metadata": {
    "collapsed": false
   },
   "outputs": [
    {
     "name": "stdout",
     "output_type": "stream",
     "text": [
      "[[ 1.  0.  0.  1.]\n",
      " [ 0.  1.  0.  0.]\n",
      " [ 0.  0.  1. -1.]]\n"
     ]
    }
   ],
   "source": [
    "A7=np.dot(Replace(0,1,2),A6)\n",
    "print(A7)"
   ]
  },
  {
   "cell_type": "markdown",
   "metadata": {},
   "source": [
    "<p> The above tedious step-wise operations is to show the elementary row operations. </p>\n",
    "<p>The form of the solution is called row reduced echelon form (rref).</p>\n",
    "Python has a function to solve for rref."
   ]
  },
  {
   "cell_type": "markdown",
   "metadata": {},
   "source": [
    "The Python function numpy.linalg can solve system of linear eqns"
   ]
  },
  {
   "cell_type": "code",
   "execution_count": 10,
   "metadata": {
    "collapsed": false
   },
   "outputs": [
    {
     "name": "stdout",
     "output_type": "stream",
     "text": [
      "[ 1.  0. -1.]\n"
     ]
    }
   ],
   "source": [
    "A = np.array([[1,-2,1],[0,2,-8],[5,0,-5]])\n",
    "B = np.array([0,8,10])\n",
    "x=np.linalg.solve(A,B)\n",
    "print(x)"
   ]
  }
 ],
 "metadata": {
  "kernelspec": {
   "display_name": "Python 2",
   "language": "python",
   "name": "python2"
  },
  "language_info": {
   "codemirror_mode": {
    "name": "ipython",
    "version": 2
   },
   "file_extension": ".py",
   "mimetype": "text/x-python",
   "name": "python",
   "nbconvert_exporter": "python",
   "pygments_lexer": "ipython2",
   "version": "2.7.10"
  }
 },
 "nbformat": 4,
 "nbformat_minor": 0
}
